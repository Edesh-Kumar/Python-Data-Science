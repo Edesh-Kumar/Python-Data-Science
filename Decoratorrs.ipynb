{
 "cells": [
  {
   "cell_type": "code",
   "execution_count": null,
   "id": "9890c8d5",
   "metadata": {},
   "outputs": [],
   "source": [
    "user= {\n",
    "    'edesh' : 'edesh@123',\n",
    "    'Megha' : 'Megha@21'\n",
    "}\n",
    "\n",
    "def adder(a,b):\n",
    "    print(a+b)\n",
    "\n",
    "def login(func):\n",
    "    def wrapper(*args):\n",
    "        name = input('Username')\n",
    "        password = input('Password')\n",
    "        if name in user and user[name] == password :\n",
    "            print('verified')\n",
    "            func(*args)\n",
    "        else: print('not verified')\n",
    "    return wrapper\n",
    "\n",
    "adder = login(adder)\n",
    "adder(4,6)\n"
   ]
  },
  {
   "cell_type": "code",
   "execution_count": 25,
   "id": "87f89b4f",
   "metadata": {},
   "outputs": [
    {
     "name": "stdout",
     "output_type": "stream",
     "text": [
      "name?edesh\n",
      "age?23\n",
      "rollnumber?01\n",
      "name?megha\n",
      "age?21\n",
      "rollnumber?02\n",
      "name?shyam\n",
      "age?19\n",
      "rollnumber?04\n",
      "name?a\n",
      "age?da\n",
      "rollnumber?ad\n",
      "name?da\n",
      "age?ad\n",
      "rollnumber?ad\n"
     ]
    }
   ],
   "source": [
    "l = []\n",
    "for i in range(5):\n",
    "    l.append({'name':input('name?'),'age':input('age?'), 'rollnumber': input('rollnumber?')})"
   ]
  },
  {
   "cell_type": "code",
   "execution_count": 26,
   "id": "9aa57d89",
   "metadata": {},
   "outputs": [
    {
     "name": "stdout",
     "output_type": "stream",
     "text": [
      "[{'name': 'edesh', 'age': '23', 'rollnumber': '01'}, {'name': 'megha', 'age': '21', 'rollnumber': '02'}, {'name': 'shyam', 'age': '19', 'rollnumber': '04'}, {'name': 'a', 'age': 'da', 'rollnumber': 'ad'}, {'name': 'da', 'age': 'ad', 'rollnumber': 'ad'}]\n"
     ]
    }
   ],
   "source": [
    "print(l)"
   ]
  },
  {
   "cell_type": "code",
   "execution_count": null,
   "id": "3cabbc25",
   "metadata": {},
   "outputs": [],
   "source": []
  },
  {
   "cell_type": "code",
   "execution_count": null,
   "id": "c8e14b76",
   "metadata": {},
   "outputs": [],
   "source": []
  },
  {
   "cell_type": "code",
   "execution_count": null,
   "id": "c055d76f",
   "metadata": {},
   "outputs": [],
   "source": []
  }
 ],
 "metadata": {
  "kernelspec": {
   "display_name": "Python 3 (ipykernel)",
   "language": "python",
   "name": "python3"
  },
  "language_info": {
   "codemirror_mode": {
    "name": "ipython",
    "version": 3
   },
   "file_extension": ".py",
   "mimetype": "text/x-python",
   "name": "python",
   "nbconvert_exporter": "python",
   "pygments_lexer": "ipython3",
   "version": "3.10.4"
  }
 },
 "nbformat": 4,
 "nbformat_minor": 5
}
