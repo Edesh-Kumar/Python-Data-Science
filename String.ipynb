{
 "cells": [
  {
   "cell_type": "markdown",
   "id": "081150db",
   "metadata": {},
   "source": [
    "# Strings"
   ]
  },
  {
   "cell_type": "code",
   "execution_count": 37,
   "id": "67f560e3",
   "metadata": {},
   "outputs": [],
   "source": [
    "# String is created by assigning a literal within single, double or triple quotes\n",
    "str_1 = \"I am a String\"\n",
    "a = 10\n",
    "b = 20\n",
    "c = 90\n"
   ]
  },
  {
   "cell_type": "code",
   "execution_count": 54,
   "id": "869872e6",
   "metadata": {
    "scrolled": true
   },
   "outputs": [
    {
     "name": "stdout",
     "output_type": "stream",
     "text": [
      "value of a is 10\n",
      "value of b is 20\n",
      "value of b is 90\n",
      "\n",
      "value of a is 10\n",
      "value of b is 20\n",
      "value of c is 90\n"
     ]
    }
   ],
   "source": [
    "# various ways of printing string\n",
    "\n",
    "print(f'value of a is {a}',f'value of b is {b}',f'value of b is {c}', sep='\\n', end ='\\n\\n')\n",
    "print()\n",
    "print('value of a is '+str(a)+'\\nvalue of b is '+str(b)+'\\nvalue of c is '+str(c))"
   ]
  },
  {
   "cell_type": "code",
   "execution_count": 58,
   "id": "26b2e864",
   "metadata": {},
   "outputs": [
    {
     "name": "stdout",
     "output_type": "stream",
     "text": [
      "True\n",
      "False\n"
     ]
    }
   ],
   "source": [
    "# to check if a string is present inside another string , we use ['String1' in String2], it returns boolean\n",
    "# vice versa for \"not in\"\n",
    "\n",
    "print('Hi' not in str_1)\n",
    "print('Hi' in str_1)"
   ]
  },
  {
   "cell_type": "code",
   "execution_count": 34,
   "id": "521cdaa4",
   "metadata": {},
   "outputs": [
    {
     "name": "stdout",
     "output_type": "stream",
     "text": [
      "13\n",
      "m a String\n"
     ]
    }
   ],
   "source": [
    "#  len(string_var) to check the length of the string\n",
    "print(len(str_1))\n",
    "print(str_1[3:len(str_1)])"
   ]
  },
  {
   "cell_type": "code",
   "execution_count": 60,
   "id": "056193ce",
   "metadata": {},
   "outputs": [
    {
     "name": "stdout",
     "output_type": "stream",
     "text": [
      "I am a String"
     ]
    }
   ],
   "source": [
    "# looping through string can be done through a for loop which gives single character on every iteration\n",
    "for i in str_1:\n",
    "    print(i, end='')"
   ]
  },
  {
   "cell_type": "code",
   "execution_count": 64,
   "id": "c6ecec3e",
   "metadata": {},
   "outputs": [
    {
     "name": "stdout",
     "output_type": "stream",
     "text": [
      "a\n",
      "I am a String"
     ]
    }
   ],
   "source": [
    "# just like arrays in other programming languages, Strings are indexable in Python, and we can access individual character by enclosing the index inside square brackets\n",
    "print(str_1[5])\n",
    "for i in range(len(str_1)):\n",
    "    print(str_1[i],end='')"
   ]
  },
  {
   "cell_type": "code",
   "execution_count": 88,
   "id": "f96defe0",
   "metadata": {},
   "outputs": [
    {
     "name": "stdout",
     "output_type": "stream",
     "text": [
      "gnirtS a ma I"
     ]
    }
   ],
   "source": [
    "# indexing also start from reverse in python by which we can access end of array by starting from -1\n",
    "#    0  1  2  3  4  5  6  7  8  9\n",
    "#  -10 -9 -8 -7 -6 -5 -4 -3 -2 -1\n",
    "for i in range(1, len(str_1)+1):\n",
    "    print(str_1[-i], end=\"\")"
   ]
  },
  {
   "cell_type": "code",
   "execution_count": 110,
   "id": "f0b11628",
   "metadata": {},
   "outputs": [
    {
     "name": "stdout",
     "output_type": "stream",
     "text": [
      "Ia  tig\n"
     ]
    }
   ],
   "source": [
    "#  String slicing is obtaining a substring by using a slicing operator[startIndex:stopIndex:step]\n",
    "# if any feild is left empty default value is considered as [startingIndexOfString:enddingIndexOfString:1]\n",
    "\n",
    "print(str_1[:len(str_1):2])\n"
   ]
  },
  {
   "cell_type": "code",
   "execution_count": 133,
   "id": "3a11a803",
   "metadata": {},
   "outputs": [
    {
     "name": "stdout",
     "output_type": "stream",
     "text": [
      "I AM A STRING\n",
      "i am a string\n",
      "i am a string\n",
      "['I ', 'm ', ' String']\n",
      "I hm h String\n"
     ]
    }
   ],
   "source": [
    "# String Methods\n",
    "# str.lower() - converts uppercase string to lowercase\n",
    "# str.upper() - converts lowercase string to uppercase\n",
    "# str.strip() - removes whitespaces from before and after the string\n",
    "# str.split(arg) - splits the string based the delimiter passed as argument, default is whitespace\n",
    "# str.replace('string to replace', 'string to replace with')\n",
    "text = '    i am a string      '\n",
    "print(str_1.upper())\n",
    "print(str_1.lower())\n",
    "print(text.strip())\n",
    "print(str_1.split('a'))\n",
    "print(str_1.replace('a','h'))\n"
   ]
  },
  {
   "cell_type": "code",
   "execution_count": 135,
   "id": "4acdb6b4",
   "metadata": {},
   "outputs": [
    {
     "name": "stdout",
     "output_type": "stream",
     "text": [
      "Hello,My name is Edesh kumar\n",
      "Hello Good Morning, My name is Edesh Kumar. I am 23 years old\n"
     ]
    }
   ],
   "source": [
    "# String formatting with str.format()\n",
    "# .format() takes arguments and places inside placeholders{} in string respectfully or by indexes if defined\n",
    "print('Hello,My name is {}'.format('Edesh kumar'))\n",
    "print('Hello {1}, My name is {0}. I am {2} years old'.format('Edesh Kumar', 'Good Morning', '23'))"
   ]
  },
  {
   "cell_type": "code",
   "execution_count": 141,
   "id": "ab336011",
   "metadata": {},
   "outputs": [
    {
     "name": "stdout",
     "output_type": "stream",
     "text": [
      "Hi there, i will call you 'yohan'\n"
     ]
    }
   ],
   "source": [
    "#  to use characters which are generally not allowed inside a string like ' we can use an escape character \"\\\" followed by the forbidden character ex: \\'\n",
    "print('Hi there, i will call you \\'yohan\\'')"
   ]
  },
  {
   "cell_type": "code",
   "execution_count": null,
   "id": "4bb59415",
   "metadata": {},
   "outputs": [],
   "source": []
  }
 ],
 "metadata": {
  "kernelspec": {
   "display_name": "Python 3 (ipykernel)",
   "language": "python",
   "name": "python3"
  },
  "language_info": {
   "codemirror_mode": {
    "name": "ipython",
    "version": 3
   },
   "file_extension": ".py",
   "mimetype": "text/x-python",
   "name": "python",
   "nbconvert_exporter": "python",
   "pygments_lexer": "ipython3",
   "version": "3.10.4"
  }
 },
 "nbformat": 4,
 "nbformat_minor": 5
}
