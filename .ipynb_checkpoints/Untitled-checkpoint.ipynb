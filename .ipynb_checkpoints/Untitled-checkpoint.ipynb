{
 "cells": [
  {
   "cell_type": "code",
   "execution_count": 11,
   "id": "02ada8ad",
   "metadata": {},
   "outputs": [],
   "source": [
    "def calc(a, b):\n",
    "   return (a+b),(a-b),(a*b),(a/b)\n",
    "    "
   ]
  },
  {
   "cell_type": "code",
   "execution_count": 22,
   "id": "fd4dfed1",
   "metadata": {
    "scrolled": false
   },
   "outputs": [
    {
     "name": "stdout",
     "output_type": "stream",
     "text": [
      "30\n"
     ]
    }
   ],
   "source": [
    "a,b,c,d = (calc(10,20))\n",
    "print(a)"
   ]
  },
  {
   "cell_type": "code",
   "execution_count": 66,
   "id": "df1e0746",
   "metadata": {},
   "outputs": [],
   "source": [
    "temp = 0\n",
    "def adder(*args):\n",
    "    global temp\n",
    "    for i in args:\n",
    "        temp += i\n",
    "    return temp"
   ]
  },
  {
   "cell_type": "code",
   "execution_count": 67,
   "id": "49e3610b",
   "metadata": {
    "scrolled": true
   },
   "outputs": [
    {
     "name": "stdout",
     "output_type": "stream",
     "text": [
      "100\n"
     ]
    }
   ],
   "source": [
    "print(adder(10,20,30,40))"
   ]
  },
  {
   "cell_type": "code",
   "execution_count": 68,
   "id": "00ea2a54",
   "metadata": {},
   "outputs": [
    {
     "data": {
      "text/plain": [
       "100"
      ]
     },
     "execution_count": 68,
     "metadata": {},
     "output_type": "execute_result"
    }
   ],
   "source": [
    "temp"
   ]
  },
  {
   "cell_type": "code",
   "execution_count": null,
   "id": "8d595c15",
   "metadata": {},
   "outputs": [],
   "source": [
    "def typePrinter(a):\n",
    "    return(type(a))"
   ]
  },
  {
   "cell_type": "code",
   "execution_count": null,
   "id": "742bee36",
   "metadata": {},
   "outputs": [],
   "source": [
    "typePrinter(\"edesh\")"
   ]
  },
  {
   "cell_type": "code",
   "execution_count": 15,
   "id": "e099eaea",
   "metadata": {},
   "outputs": [
    {
     "name": "stdout",
     "output_type": "stream",
     "text": [
      "passed\n",
      "passed\n"
     ]
    }
   ],
   "source": [
    "marks =70 \n",
    "if marks>40 :\n",
    "    print(\"passed\")\n",
    "else :\n",
    "    print(\"failed\")\n",
    "    \n",
    "print(\"passed\" if marks>40 else \"failed\")"
   ]
  },
  {
   "cell_type": "code",
   "execution_count": 21,
   "id": "d3f889dd",
   "metadata": {},
   "outputs": [
    {
     "name": "stdout",
     "output_type": "stream",
     "text": [
      "B\n"
     ]
    }
   ],
   "source": [
    "marks =85\n",
    "if marks>=90: print(\"A\")\n",
    "elif marks >= 80 : print(\"B\")   \n",
    "else : print(\"C\")"
   ]
  },
  {
   "cell_type": "code",
   "execution_count": 28,
   "id": "0420f466",
   "metadata": {},
   "outputs": [
    {
     "name": "stdout",
     "output_type": "stream",
     "text": [
      "enter your marks80\n",
      "lodu padh le\n"
     ]
    }
   ],
   "source": [
    "marks =int(input(\"enter your marks\"))\n",
    "if marks >=95 : print(\"A+\", \"bohot badia\")\n",
    "elif marks>= 90 : print(\"A\", \"moj kardi\")\n",
    "elif marks>= 85 : print(\"B+\", \"aur better kar skta tha\")\n",
    "else : print(\"lodu padh le\")"
   ]
  },
  {
   "cell_type": "code",
   "execution_count": 51,
   "id": "268f986c",
   "metadata": {},
   "outputs": [
    {
     "name": "stdout",
     "output_type": "stream",
     "text": [
      "1 False\n",
      "2 True\n",
      "3 True\n",
      "4 False\n",
      "5 True\n",
      "6 False\n",
      "7 True\n",
      "8 False\n",
      "9 False\n",
      "10 False\n",
      "11 True\n",
      "12 False\n",
      "13 True\n",
      "14 False\n",
      "15 False\n",
      "16 False\n",
      "17 True\n",
      "18 False\n",
      "19 True\n",
      "20 False\n",
      "21 False\n",
      "22 False\n",
      "23 True\n",
      "24 False\n",
      "25 False\n",
      "26 False\n",
      "27 False\n",
      "28 False\n",
      "29 True\n",
      "30 False\n",
      "31 True\n",
      "32 False\n",
      "33 False\n",
      "34 False\n",
      "35 False\n",
      "36 False\n",
      "37 True\n",
      "38 False\n",
      "39 False\n",
      "40 False\n",
      "41 True\n",
      "42 False\n",
      "43 True\n",
      "44 False\n",
      "45 False\n",
      "46 False\n",
      "47 True\n",
      "48 False\n",
      "49 False\n",
      "50 False\n",
      "51 False\n",
      "52 False\n",
      "53 True\n",
      "54 False\n",
      "55 False\n",
      "56 False\n",
      "57 False\n",
      "58 False\n",
      "59 True\n",
      "60 False\n",
      "61 True\n",
      "62 False\n",
      "63 False\n",
      "64 False\n",
      "65 False\n",
      "66 False\n",
      "67 True\n",
      "68 False\n",
      "69 False\n",
      "70 False\n",
      "71 True\n",
      "72 False\n",
      "73 True\n",
      "74 False\n",
      "75 False\n",
      "76 False\n",
      "77 False\n",
      "78 False\n",
      "79 True\n",
      "80 False\n",
      "81 False\n",
      "82 False\n",
      "83 True\n",
      "84 False\n",
      "85 False\n",
      "86 False\n",
      "87 False\n",
      "88 False\n",
      "89 True\n",
      "90 False\n",
      "91 False\n",
      "92 False\n",
      "93 False\n",
      "94 False\n",
      "95 False\n",
      "96 False\n",
      "97 True\n",
      "98 False\n",
      "99 False\n"
     ]
    }
   ],
   "source": [
    "def isPrime(prime):\n",
    "    if prime == 1 : return False\n",
    "    for i in range(2,prime):\n",
    "        if prime%i ==0:\n",
    "            return False\n",
    "    return True\n",
    "\n",
    "for i in range(1,100):\n",
    "    print(i, isPrime(i))"
   ]
  },
  {
   "cell_type": "code",
   "execution_count": 62,
   "id": "c8e0006d",
   "metadata": {},
   "outputs": [
    {
     "name": "stdout",
     "output_type": "stream",
     "text": [
      "enter the passwordfs\n",
      "try again\n",
      "enter the passwordsfds\n",
      "try again\n",
      "enter the passwordpassword\n"
     ]
    }
   ],
   "source": [
    "def phoneLock():\n",
    "    passs = input(\"enter the password\")\n",
    "    if passs == \"password\":\n",
    "        return \"unlocked\"\n",
    "    else :\n",
    "        print(\"try again\")\n",
    "        phoneLock()\n",
    "        \n",
    "print(phoneLock())"
   ]
  },
  {
   "cell_type": "code",
   "execution_count": 2,
   "id": "69316845",
   "metadata": {},
   "outputs": [
    {
     "name": "stdout",
     "output_type": "stream",
     "text": [
      "Enter the number678\n",
      "21\n"
     ]
    }
   ],
   "source": [
    "def func1(a = input('Enter the number')):\n",
    "    sum =0\n",
    "    for i in a:\n",
    "        sum += int(i)\n",
    "    return sum\n",
    "print(func1())"
   ]
  },
  {
   "cell_type": "code",
   "execution_count": 19,
   "id": "6d482153",
   "metadata": {},
   "outputs": [
    {
     "name": "stdout",
     "output_type": "stream",
     "text": [
      "Enter the number8009\n",
      "17\n"
     ]
    }
   ],
   "source": [
    "def func2(a = int(input('Enter the number'))):\n",
    "    sum =0\n",
    "    temp = a\n",
    "    while temp>0:\n",
    "        sum += temp%10\n",
    "        temp //=10\n",
    "    return sum\n",
    "        \n",
    "print(func2())"
   ]
  },
  {
   "cell_type": "code",
   "execution_count": null,
   "id": "e167fadd",
   "metadata": {},
   "outputs": [],
   "source": []
  },
  {
   "cell_type": "code",
   "execution_count": null,
   "id": "50a85bc4",
   "metadata": {},
   "outputs": [],
   "source": []
  },
  {
   "cell_type": "code",
   "execution_count": null,
   "id": "7b378485",
   "metadata": {},
   "outputs": [],
   "source": []
  }
 ],
 "metadata": {
  "kernelspec": {
   "display_name": "Python 3 (ipykernel)",
   "language": "python",
   "name": "python3"
  },
  "language_info": {
   "codemirror_mode": {
    "name": "ipython",
    "version": 3
   },
   "file_extension": ".py",
   "mimetype": "text/x-python",
   "name": "python",
   "nbconvert_exporter": "python",
   "pygments_lexer": "ipython3",
   "version": "3.10.4"
  }
 },
 "nbformat": 4,
 "nbformat_minor": 5
}
