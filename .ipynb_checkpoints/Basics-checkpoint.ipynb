{
 "cells": [
  {
   "cell_type": "code",
   "execution_count": null,
   "id": "3bd3b978",
   "metadata": {},
   "outputs": [],
   "source": [
    "# python syntax and indentation.\n",
    "# a block of code inside a fuction or loop is given by indentation(using a tab or 4 whitespaces)"
   ]
  },
  {
   "cell_type": "code",
   "execution_count": 6,
   "id": "bded55b3",
   "metadata": {},
   "outputs": [
    {
     "name": "stdout",
     "output_type": "stream",
     "text": [
      "Hello Times  0\n",
      "Hello Times  1\n",
      "Hello Times  2\n",
      "Hello Times  3\n",
      "Hello Times  4\n",
      "Hello Times  5\n",
      "Hello Times  6\n",
      "Hello Times  7\n",
      "Hello Times  8\n",
      "Hello Times  9\n"
     ]
    }
   ],
   "source": [
    "for i in range(10):\n",
    "    print(\"Hello Times \", i)"
   ]
  },
  {
   "cell_type": "code",
   "execution_count": 4,
   "id": "b5af8476",
   "metadata": {},
   "outputs": [
    {
     "name": "stdout",
     "output_type": "stream",
     "text": [
      "10 I am a String True\n"
     ]
    }
   ],
   "source": [
    "#Python variables\n",
    "# in python, unlike java, data type of the variable is not explicitly defined. Python is a type infered language which means\n",
    "# it can automatically detect the data type of the data item in a variable.\n",
    "# a variable only contains the address of the memory location where item is stored\n",
    "\n",
    "a = 10\n",
    "b =\"I am a String\"\n",
    "c = True\n",
    "print(a,b,c)\n",
    "# we can use print() inbuilt fuction to get the values of data item in the variable"
   ]
  },
  {
   "cell_type": "code",
   "execution_count": 18,
   "id": "5d6ee87a",
   "metadata": {},
   "outputs": [
    {
     "name": "stdout",
     "output_type": "stream",
     "text": [
      "i am a local variable\n",
      "i am a global variable\n",
      "i am a global variable\n"
     ]
    },
    {
     "ename": "NameError",
     "evalue": "name 'lcl_var' is not defined",
     "output_type": "error",
     "traceback": [
      "\u001b[1;31m---------------------------------------------------------------------------\u001b[0m",
      "\u001b[1;31mNameError\u001b[0m                                 Traceback (most recent call last)",
      "Input \u001b[1;32mIn [18]\u001b[0m, in \u001b[0;36m<cell line: 12>\u001b[1;34m()\u001b[0m\n\u001b[0;32m     10\u001b[0m fun()\n\u001b[0;32m     11\u001b[0m \u001b[38;5;28mprint\u001b[39m(glbl_var)\n\u001b[1;32m---> 12\u001b[0m \u001b[38;5;28mprint\u001b[39m(\u001b[43mlcl_var\u001b[49m)\n",
      "\u001b[1;31mNameError\u001b[0m: name 'lcl_var' is not defined"
     ]
    }
   ],
   "source": [
    "# global and local variables\n",
    "# variables defined inside a function are local variables\n",
    "# variables defined outside a function are global variables\n",
    "glbl_var = \"i am a global variable\"\n",
    "\n",
    "def fun():\n",
    "    lcl_var = \"i am a local variable\"\n",
    "    print(lcl_var,glbl_var, sep =\"\\n\")\n",
    "    \n",
    "fun()\n",
    "print(glbl_var)\n",
    "print(lcl_var)\n",
    "# the line above throws error as local variable is not visible outside the function"
   ]
  },
  {
   "cell_type": "code",
   "execution_count": 22,
   "id": "af073d00",
   "metadata": {},
   "outputs": [
    {
     "name": "stdout",
     "output_type": "stream",
     "text": [
      "2716772470176\n",
      "2716772478256\n",
      "2716772468576\n",
      "2716772468576\n"
     ]
    }
   ],
   "source": [
    "# if we change the global variable inside a function, it considers it as a local variable is different from global variable defined outside\n",
    "# we have to use the \"global\" keyboard inside function to change it\n",
    "glbl_var = \"i am a global variable\"\n",
    "print(id(glbl_var))\n",
    "def fun():\n",
    "    global glbl_var\n",
    "    glbl_var = \"i am a global variable\"\n",
    "    lcl_var = \"i am a local variable\"\n",
    "    print(id(lcl_var),id(glbl_var), sep =\"\\n\")\n",
    "    \n",
    "fun()\n",
    "print(id(glbl_var))"
   ]
  },
  {
   "cell_type": "code",
   "execution_count": 23,
   "id": "bb27ce0c",
   "metadata": {},
   "outputs": [],
   "source": [
    "#  To get documentation of any inbuilt function ion pyrthon, we can use ? after the function\n",
    "print?\n"
   ]
  },
  {
   "cell_type": "code",
   "execution_count": 24,
   "id": "ac8d903c",
   "metadata": {},
   "outputs": [
    {
     "name": "stdout",
     "output_type": "stream",
     "text": [
      "10 20 30\n"
     ]
    }
   ],
   "source": [
    "# this is how multiple variables are assigned in a single line\n",
    "x,y,z = 10,20,30\n",
    "print(x,y,z)"
   ]
  },
  {
   "cell_type": "code",
   "execution_count": 29,
   "id": "c7fcf896",
   "metadata": {},
   "outputs": [
    {
     "data": {
      "text/plain": [
       "49"
      ]
     },
     "execution_count": 29,
     "metadata": {},
     "output_type": "execute_result"
    }
   ],
   "source": [
    "# 'ord()' is an internal function in python to get the unicode of the character passed in it \n",
    "ord('1')"
   ]
  },
  {
   "cell_type": "code",
   "execution_count": null,
   "id": "002e6409",
   "metadata": {},
   "outputs": [],
   "source": []
  },
  {
   "cell_type": "code",
   "execution_count": null,
   "id": "40343465",
   "metadata": {},
   "outputs": [],
   "source": []
  }
 ],
 "metadata": {
  "kernelspec": {
   "display_name": "Python 3 (ipykernel)",
   "language": "python",
   "name": "python3"
  },
  "language_info": {
   "codemirror_mode": {
    "name": "ipython",
    "version": 3
   },
   "file_extension": ".py",
   "mimetype": "text/x-python",
   "name": "python",
   "nbconvert_exporter": "python",
   "pygments_lexer": "ipython3",
   "version": "3.10.4"
  }
 },
 "nbformat": 4,
 "nbformat_minor": 5
}
