{
 "cells": [
  {
   "cell_type": "markdown",
   "id": "3716fd5e",
   "metadata": {},
   "source": [
    "# OOPS"
   ]
  },
  {
   "cell_type": "code",
   "execution_count": 5,
   "id": "71f73da3",
   "metadata": {},
   "outputs": [
    {
     "name": "stdout",
     "output_type": "stream",
     "text": [
      "Abhijeet\n"
     ]
    }
   ],
   "source": [
    "class students :\n",
    "    mentor = 'Abhijeet'\n",
    "    Batch = 'DataScience'\n",
    "    \n",
    "stud1 = students()\n",
    "print(stud1.mentor)"
   ]
  },
  {
   "cell_type": "code",
   "execution_count": 47,
   "id": "739cbde0",
   "metadata": {},
   "outputs": [],
   "source": [
    "class Person:\n",
    "    name = None\n",
    "    gender = None\n",
    "    height = None\n",
    "    \n",
    "    def __init__(self, name,height,gender):\n",
    "        self.name = name\n",
    "        self.gender = gender\n",
    "        self.height = height\n",
    "    \n",
    "    \n",
    "    \n",
    "    def greet(self):\n",
    "        print(f'my name is {self.name}, gender is {self.gender}, my height is {self.height}')\n",
    "    "
   ]
  },
  {
   "cell_type": "code",
   "execution_count": 48,
   "id": "ddee8879",
   "metadata": {
    "scrolled": true
   },
   "outputs": [],
   "source": [
    "p1 =Person('Edesh','M',5.8)\n"
   ]
  },
  {
   "cell_type": "code",
   "execution_count": 42,
   "id": "0f9ddc6f",
   "metadata": {},
   "outputs": [
    {
     "ename": "AttributeError",
     "evalue": "'Person' object has no attribute 'atbChange'",
     "output_type": "error",
     "traceback": [
      "\u001b[1;31m---------------------------------------------------------------------------\u001b[0m",
      "\u001b[1;31mAttributeError\u001b[0m                            Traceback (most recent call last)",
      "Input \u001b[1;32mIn [42]\u001b[0m, in \u001b[0;36m<cell line: 1>\u001b[1;34m()\u001b[0m\n\u001b[1;32m----> 1\u001b[0m \u001b[43mp1\u001b[49m\u001b[38;5;241;43m.\u001b[39;49m\u001b[43matbChange\u001b[49m()\n",
      "\u001b[1;31mAttributeError\u001b[0m: 'Person' object has no attribute 'atbChange'"
     ]
    }
   ],
   "source": []
  },
  {
   "cell_type": "code",
   "execution_count": 39,
   "id": "7cefeeb2",
   "metadata": {},
   "outputs": [
    {
     "name": "stdout",
     "output_type": "stream",
     "text": [
      "my name is Edesh, gender is M, my height is 5.8\n"
     ]
    }
   ],
   "source": [
    "p1.greet()"
   ]
  },
  {
   "cell_type": "markdown",
   "id": "afdaf0c5",
   "metadata": {},
   "source": [
    "# Magic Function\n"
   ]
  },
  {
   "cell_type": "code",
   "execution_count": null,
   "id": "09996665",
   "metadata": {},
   "outputs": [],
   "source": []
  }
 ],
 "metadata": {
  "kernelspec": {
   "display_name": "Python 3 (ipykernel)",
   "language": "python",
   "name": "python3"
  },
  "language_info": {
   "codemirror_mode": {
    "name": "ipython",
    "version": 3
   },
   "file_extension": ".py",
   "mimetype": "text/x-python",
   "name": "python",
   "nbconvert_exporter": "python",
   "pygments_lexer": "ipython3",
   "version": "3.10.4"
  }
 },
 "nbformat": 4,
 "nbformat_minor": 5
}
