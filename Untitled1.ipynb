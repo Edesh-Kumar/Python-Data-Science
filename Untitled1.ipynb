{
 "cells": [
  {
   "cell_type": "markdown",
   "id": "3d56d270",
   "metadata": {},
   "source": [
    "# Data Types"
   ]
  },
  {
   "cell_type": "code",
   "execution_count": null,
   "id": "08e012a9",
   "metadata": {},
   "outputs": [],
   "source": [
    "#string\n",
    "#List\n",
    "#Tuple\n",
    "#"
   ]
  },
  {
   "cell_type": "code",
   "execution_count": 9,
   "id": "d3d85975",
   "metadata": {},
   "outputs": [
    {
     "name": "stdout",
     "output_type": "stream",
     "text": [
      "<built-in method strip of str object at 0x0000023D0F4330B0>yes\n",
      "Authenticated\n"
     ]
    }
   ],
   "source": [
    "def isAuthenticated():\n",
    "    phrase = input(\"Enter the word\").strip\n",
    "    if(phrase == 'yes'):\n",
    "        print(\"Authenticated\")\n",
    "    elif(phrase == 'no'):\n",
    "        print(\"Not Authenticated\")\n",
    "isAuthenticated()"
   ]
  },
  {
   "cell_type": "code",
   "execution_count": 19,
   "id": "85cdfa28",
   "metadata": {},
   "outputs": [
    {
     "data": {
      "text/plain": [
       "'yes'"
      ]
     },
     "execution_count": 19,
     "metadata": {},
     "output_type": "execute_result"
    }
   ],
   "source": [
    "def removeWhitespace(string):\n",
    "    result = ''\n",
    "    for i in string:\n",
    "        if i!=' ':\n",
    "          result = result +i\n",
    "    return result\n",
    "removeWhitespace(\"  yes  \")"
   ]
  },
  {
   "cell_type": "code",
   "execution_count": 25,
   "id": "2680198b",
   "metadata": {},
   "outputs": [
    {
     "name": "stdout",
     "output_type": "stream",
     "text": [
      "this,is,an,example\n"
     ]
    }
   ],
   "source": [
    "def splitfun(var, sepvar):\n",
    "    result =''\n",
    "    for i in var:\n",
    "        if(i!=sepvar):\n",
    "            result +=i\n",
    "        else :\n",
    "            result +=','\n",
    "    return result\n",
    "print(splitfun('this is an example', ' '))\n",
    "        "
   ]
  },
  {
   "cell_type": "code",
   "execution_count": 26,
   "id": "58f60a55",
   "metadata": {},
   "outputs": [
    {
     "name": "stdout",
     "output_type": "stream",
     "text": [
      "2\n"
     ]
    }
   ],
   "source": [
    "def charCount(var, char):\n",
    "    count = 0\n",
    "    for i in var:\n",
    "        if i==char:\n",
    "            count +=1\n",
    "    return count\n",
    "print(charCount(\"teleport\",'t'))\n",
    "    "
   ]
  },
  {
   "cell_type": "code",
   "execution_count": 49,
   "id": "352c7f81",
   "metadata": {},
   "outputs": [
    {
     "name": "stdout",
     "output_type": "stream",
     "text": [
      "['this', 'is', 'an', 'example']\n"
     ]
    }
   ],
   "source": [
    "def splitfun(var):\n",
    "    result =[]\n",
    "    word =''\n",
    "    for i in var:\n",
    "        if i!=' ':\n",
    "            word = word +i\n",
    "        else :\n",
    "            result.append(word)\n",
    "            word =\"\"\n",
    "    result.append(word)\n",
    "        \n",
    "    return result\n",
    "print(splitfun('this is an example'))\n",
    "        \n",
    "    "
   ]
  },
  {
   "cell_type": "code",
   "execution_count": 29,
   "id": "29018d8d",
   "metadata": {},
   "outputs": [
    {
     "name": "stdout",
     "output_type": "stream",
     "text": [
      "Object `upper` not found.\n"
     ]
    }
   ],
   "source": [
    "upper?\n"
   ]
  },
  {
   "cell_type": "code",
   "execution_count": 35,
   "id": "6760dae1",
   "metadata": {},
   "outputs": [
    {
     "name": "stdout",
     "output_type": "stream",
     "text": [
      "input the passHWL\n",
      "not authenticated\n"
     ]
    }
   ],
   "source": [
    "def authenticator(a = input(\"input the pass\").strip().lower()):\n",
    "    if a == \"hello\":\n",
    "        return 'authenticated'\n",
    "    else :return 'not authenticated'\n",
    "print(authenticator())"
   ]
  },
  {
   "cell_type": "markdown",
   "id": "67fd603b",
   "metadata": {},
   "source": [
    "# List"
   ]
  },
  {
   "cell_type": "code",
   "execution_count": 40,
   "id": "5bc77548",
   "metadata": {},
   "outputs": [],
   "source": [
    "l = [1,23,54.90,'Hello',]\n",
    "\n",
    "\n"
   ]
  },
  {
   "cell_type": "code",
   "execution_count": null,
   "id": "385298a5",
   "metadata": {},
   "outputs": [],
   "source": []
  }
 ],
 "metadata": {
  "kernelspec": {
   "display_name": "Python 3 (ipykernel)",
   "language": "python",
   "name": "python3"
  },
  "language_info": {
   "codemirror_mode": {
    "name": "ipython",
    "version": 3
   },
   "file_extension": ".py",
   "mimetype": "text/x-python",
   "name": "python",
   "nbconvert_exporter": "python",
   "pygments_lexer": "ipython3",
   "version": "3.10.4"
  }
 },
 "nbformat": 4,
 "nbformat_minor": 5
}
