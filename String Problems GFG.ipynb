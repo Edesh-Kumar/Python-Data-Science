{
 "cells": [
  {
   "cell_type": "code",
   "execution_count": 1,
   "id": "22b20fc1",
   "metadata": {},
   "outputs": [
    {
     "ename": "SyntaxError",
     "evalue": "incomplete input (2322991079.py, line 17)",
     "output_type": "error",
     "traceback": [
      "\u001b[1;36m  Input \u001b[1;32mIn [1]\u001b[1;36m\u001b[0m\n\u001b[1;33m    \u001b[0m\n\u001b[1;37m    ^\u001b[0m\n\u001b[1;31mSyntaxError\u001b[0m\u001b[1;31m:\u001b[0m incomplete input\n"
     ]
    }
   ],
   "source": [
    "# Python program to check whether the string is Symmetrical or Palindrome\n",
    "def isPalindromewType1(input_str):\n",
    "    return input_str == input_str[::-1]\n",
    "\n",
    "print(isPalindromewType1(\"HolloH\"))\n",
    "\n",
    "def isPalindromeType2(input_str):\n",
    "    rev_str =''\n",
    "    for i in range(1,len(input_str)+1):\n",
    "        rev_str +=input_str[-i]\n",
    "    print(rev_str)\n",
    "    return rev_str == input_str\n",
    "\n",
    "print(isPalindromeType2(\"String\"))\n",
    "\n",
    "\n",
    "\n"
   ]
  },
  {
   "cell_type": "code",
   "execution_count": null,
   "id": "258d8eb0",
   "metadata": {},
   "outputs": [],
   "source": []
  }
 ],
 "metadata": {
  "kernelspec": {
   "display_name": "Python 3 (ipykernel)",
   "language": "python",
   "name": "python3"
  },
  "language_info": {
   "codemirror_mode": {
    "name": "ipython",
    "version": 3
   },
   "file_extension": ".py",
   "mimetype": "text/x-python",
   "name": "python",
   "nbconvert_exporter": "python",
   "pygments_lexer": "ipython3",
   "version": "3.10.4"
  }
 },
 "nbformat": 4,
 "nbformat_minor": 5
}
