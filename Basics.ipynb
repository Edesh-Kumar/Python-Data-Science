{
 "cells": [
  {
   "cell_type": "code",
   "execution_count": null,
   "id": "443dbdcf",
   "metadata": {},
   "outputs": [],
   "source": [
    "# python syntax and indentation.\n",
    "# a block of code inside a fuction or loop is given by indentation(using a tab or 4 whitespaces)"
   ]
  },
  {
   "cell_type": "code",
   "execution_count": 6,
   "id": "d94b0cb8",
   "metadata": {},
   "outputs": [
    {
     "name": "stdout",
     "output_type": "stream",
     "text": [
      "Hello Times  0\n",
      "Hello Times  1\n",
      "Hello Times  2\n",
      "Hello Times  3\n",
      "Hello Times  4\n",
      "Hello Times  5\n",
      "Hello Times  6\n",
      "Hello Times  7\n",
      "Hello Times  8\n",
      "Hello Times  9\n"
     ]
    }
   ],
   "source": [
    "for i in range(10):\n",
    "    print(\"Hello Times \", i)"
   ]
  },
  {
   "cell_type": "code",
   "execution_count": 4,
   "id": "60b03dd0",
   "metadata": {},
   "outputs": [
    {
     "name": "stdout",
     "output_type": "stream",
     "text": [
      "10 I am a String True\n"
     ]
    }
   ],
   "source": [
    "#Python variables\n",
    "# in python, unlike java, data type of the variable is not explicitly defined. Python is a type infered language which means\n",
    "# it can automatically detect the data type of the data item in a variable.\n",
    "# a variable only contains the address of the memory location where item is stored\n",
    "\n",
    "a = 10\n",
    "b =\"I am a String\"\n",
    "c = True\n",
    "print(a,b,c)\n",
    "# we can use print() inbuilt fuction to get the values of data item in the variable"
   ]
  },
  {
   "cell_type": "code",
   "execution_count": 18,
   "id": "8efd96e8",
   "metadata": {},
   "outputs": [
    {
     "name": "stdout",
     "output_type": "stream",
     "text": [
      "i am a local variable\n",
      "i am a global variable\n",
      "i am a global variable\n"
     ]
    },
    {
     "ename": "NameError",
     "evalue": "name 'lcl_var' is not defined",
     "output_type": "error",
     "traceback": [
      "\u001b[1;31m---------------------------------------------------------------------------\u001b[0m",
      "\u001b[1;31mNameError\u001b[0m                                 Traceback (most recent call last)",
      "Input \u001b[1;32mIn [18]\u001b[0m, in \u001b[0;36m<cell line: 12>\u001b[1;34m()\u001b[0m\n\u001b[0;32m     10\u001b[0m fun()\n\u001b[0;32m     11\u001b[0m \u001b[38;5;28mprint\u001b[39m(glbl_var)\n\u001b[1;32m---> 12\u001b[0m \u001b[38;5;28mprint\u001b[39m(\u001b[43mlcl_var\u001b[49m)\n",
      "\u001b[1;31mNameError\u001b[0m: name 'lcl_var' is not defined"
     ]
    }
   ],
   "source": [
    "# global and local variables\n",
    "# variables defined inside a function are local variables\n",
    "# variables defined outside a function are global variables\n",
    "glbl_var = \"i am a global variable\"\n",
    "\n",
    "def fun():\n",
    "    lcl_var = \"i am a local variable\"\n",
    "    print(lcl_var,glbl_var, sep =\"\\n\")\n",
    "    \n",
    "fun()\n",
    "print(glbl_var)\n",
    "print(lcl_var)\n",
    "# the line above throws error as local variable is not visible outside the function"
   ]
  },
  {
   "cell_type": "code",
   "execution_count": 22,
   "id": "16c5e263",
   "metadata": {},
   "outputs": [
    {
     "name": "stdout",
     "output_type": "stream",
     "text": [
      "2716772470176\n",
      "2716772478256\n",
      "2716772468576\n",
      "2716772468576\n"
     ]
    }
   ],
   "source": [
    "# if we change the global variable inside a function, it considers it as a local variable is different from global variable defined outside\n",
    "# we have to use the \"global\" keyboard inside function to change it\n",
    "glbl_var = \"i am a global variable\"\n",
    "print(id(glbl_var))\n",
    "def fun():\n",
    "    global glbl_var\n",
    "    glbl_var = \"i am a global variable\"\n",
    "    lcl_var = \"i am a local variable\"\n",
    "    print(id(lcl_var),id(glbl_var), sep =\"\\n\")\n",
    "    \n",
    "fun()\n",
    "print(id(glbl_var))"
   ]
  },
  {
   "cell_type": "code",
   "execution_count": 23,
   "id": "27375cfb",
   "metadata": {},
   "outputs": [],
   "source": [
    "#  To get documentation of any inbuilt function ion pyrthon, we can use ? after the function\n",
    "print?\n"
   ]
  },
  {
   "cell_type": "code",
   "execution_count": 24,
   "id": "1de0a20f",
   "metadata": {},
   "outputs": [
    {
     "name": "stdout",
     "output_type": "stream",
     "text": [
      "10 20 30\n"
     ]
    }
   ],
   "source": [
    "# this is how multiple variables are assigned in a single line\n",
    "x,y,z = 10,20,30\n",
    "print(x,y,z)"
   ]
  },
  {
   "cell_type": "code",
   "execution_count": 29,
   "id": "241b434b",
   "metadata": {},
   "outputs": [
    {
     "data": {
      "text/plain": [
       "49"
      ]
     },
     "execution_count": 29,
     "metadata": {},
     "output_type": "execute_result"
    }
   ],
   "source": [
    "# 'ord()' is an internal function in python to get the unicode of the character passed in it \n",
    "ord('1')"
   ]
  },
  {
   "cell_type": "code",
   "execution_count": 4,
   "id": "c05a1888",
   "metadata": {},
   "outputs": [
    {
     "name": "stdout",
     "output_type": "stream",
     "text": [
      "hellohellohello\n"
     ]
    }
   ],
   "source": [
    "print(\"hello\"*3)"
   ]
  },
  {
   "cell_type": "code",
   "execution_count": 14,
   "id": "d31e2274",
   "metadata": {},
   "outputs": [
    {
     "name": "stdout",
     "output_type": "stream",
     "text": [
      "4\n"
     ]
    }
   ],
   "source": [
    "def digit_counter(num):\n",
    "    count = 0\n",
    "    temp = num\n",
    "    while temp>0:\n",
    "        temp//=10\n",
    "        count+=1\n",
    "    return count\n",
    "        \n",
    "print(digit_counter(7809))"
   ]
  },
  {
   "cell_type": "code",
   "execution_count": null,
   "id": "ff6d8896",
   "metadata": {},
   "outputs": [],
   "source": [
    "num = 7809\n",
    "count = 0\n",
    "    temp = num\n",
    "    while temp>0:\n",
    "        temp//=10\n",
    "        count+=1\n",
    "print(count)"
   ]
  },
  {
   "cell_type": "code",
   "execution_count": 18,
   "id": "f9900937",
   "metadata": {},
   "outputs": [
    {
     "name": "stdout",
     "output_type": "stream",
     "text": [
      "10 90\n",
      "90 10\n"
     ]
    }
   ],
   "source": [
    "a = 10\n",
    "b = 90\n",
    "print(a,b)\n",
    "\n",
    "temp = a\n",
    "a = b\n",
    "b = temp\n",
    "\n",
    "print(a,b)"
   ]
  },
  {
   "cell_type": "code",
   "execution_count": 2,
   "id": "ef6f6505",
   "metadata": {},
   "outputs": [
    {
     "ename": "SyntaxError",
     "evalue": "invalid syntax (535306765.py, line 1)",
     "output_type": "error",
     "traceback": [
      "\u001b[1;36m  Input \u001b[1;32mIn [2]\u001b[1;36m\u001b[0m\n\u001b[1;33m    if = 1\u001b[0m\n\u001b[1;37m       ^\u001b[0m\n\u001b[1;31mSyntaxError\u001b[0m\u001b[1;31m:\u001b[0m invalid syntax\n"
     ]
    }
   ],
   "source": []
  },
  {
   "cell_type": "code",
   "execution_count": null,
   "id": "e940fbaf",
   "metadata": {},
   "outputs": [],
   "source": []
  }
 ],
 "metadata": {
  "kernelspec": {
   "display_name": "Python 3 (ipykernel)",
   "language": "python",
   "name": "python3"
  },
  "language_info": {
   "codemirror_mode": {
    "name": "ipython",
    "version": 3
   },
   "file_extension": ".py",
   "mimetype": "text/x-python",
   "name": "python",
   "nbconvert_exporter": "python",
   "pygments_lexer": "ipython3",
   "version": "3.10.4"
  }
 },
 "nbformat": 4,
 "nbformat_minor": 5
}
