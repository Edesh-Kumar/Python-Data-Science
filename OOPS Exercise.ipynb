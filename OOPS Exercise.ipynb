{
 "cells": [
  {
   "cell_type": "code",
   "execution_count": 22,
   "id": "d7afd22e",
   "metadata": {
    "code_folding": []
   },
   "outputs": [],
   "source": [
    "# Ques 1: Create a Vehicle class,and a child class \"Bus\" that will inherit all of the variables and methods of the Vehicle class. Create a Bus class that inherits from the Vehicle class. Give the capacity argument of \"Bus.seating_capacity()\" a default value of 50.\n",
    "\n",
    "class Vehicle:\n",
    "    no_of_tires = 2\n",
    "    seating_capacity = 2\n",
    "    \n",
    "    \n",
    "    def start(self):\n",
    "        print(\"Vehicle Started\")\n",
    "        \n",
    "    def stop(self):\n",
    "        print(\"Vehicle stopped\")\n",
    "    \n",
    "    def lock(self):\n",
    "        if input('Key: ') == self.key:\n",
    "            print('Vehicle Locked')\n",
    "        else: print('invalid Key')\n",
    "        \n",
    "class Bus(Vehicle):\n",
    "    seating_capacity = 50\n",
    "    \n",
    "    \n",
    "    "
   ]
  },
  {
   "cell_type": "code",
   "execution_count": 24,
   "id": "1f5e98b7",
   "metadata": {},
   "outputs": [
    {
     "name": "stdout",
     "output_type": "stream",
     "text": [
      "Vehicle Started\n",
      "Vehicle stopped\n",
      "Key: Edesh@Bus\n",
      "Vehicle Locked\n"
     ]
    }
   ],
   "source": [
    "v1 = Vehicle('petrol' , 'Edesh@123')\n",
    "b1 = Bus('Diesel', 'Edesh@Bus')\n",
    "b1.start()\n",
    "b1.stop()\n",
    "b1.lock()"
   ]
  },
  {
   "cell_type": "code",
   "execution_count": null,
   "id": "03b42c91",
   "metadata": {},
   "outputs": [],
   "source": [
    "print(v1.seating_capacity)\n",
    "print(b1.seating_capacity)\n"
   ]
  },
  {
   "cell_type": "code",
   "execution_count": 71,
   "id": "b471c525",
   "metadata": {},
   "outputs": [],
   "source": [
    "# Ques 2: Write a Python class Employee with attributes like emp_id, emp_name, emp_salary, and emp_department and methods like calculate_emp_salary, emp_assign_department, and print_employee_details.\n",
    "\n",
    "# Sample Employee Data:\n",
    "# \"ADAMS\", \"E7876\", 50000, \"ACCOUNTING\"\n",
    "# \"JONES\", \"E7499\", 45000, \"RESEARCH\"\n",
    "# \"MARTIN\", \"E7900\", 50000, \"SALES\"\n",
    "# \"SMITH\", \"E7698\", 55000, \"OPERATIONS\"\n",
    "# Use 'assign_department' method to change the department of an employee.\n",
    "# Use 'print_employee_details' method to print the details of an employee.\n",
    "# Use 'calculate_emp_salary' method takes two arguments: salary and hours_worked, which is the number of hours worked by the employee. If the number of hours worked is more than 50, the method computes overtime and adds it to the salary. Overtime is calculated as following formula:\n",
    "# overtime = hours_worked – 50\n",
    "# Overtime amount = (overtime * (salary / 50))\n",
    "\n",
    "\n",
    "class Employee:\n",
    "    def __init__(self, emp_id, emp_name, emp_salary,emp_department):\n",
    "        self.emp_id = emp_id\n",
    "        self.emp_name = emp_name\n",
    "        self.emp_salary = int(emp_salary)\n",
    "        self.emp_department = emp_department\n",
    "        \n",
    "        \n",
    "    def calculate_emp_salary(self, hours_worked):\n",
    "        overtime = hours_worked-50\n",
    "        return overtime*(self.emp_salary/50)\n",
    "    \n",
    "    def assign_department(self, dep_name):\n",
    "        self.emp_department = dep_name\n",
    "        \n",
    "    def print_emp_details(self):\n",
    "        print(f\"name : {self.emp_name}\\nid : {self.emp_id}\\nSalary : {self.emp_salary}\\nDepartment :  {self.emp_department}\")\n",
    "        "
   ]
  },
  {
   "cell_type": "code",
   "execution_count": 77,
   "id": "aa98ef21",
   "metadata": {},
   "outputs": [
    {
     "name": "stdout",
     "output_type": "stream",
     "text": [
      "name : Edesh\n",
      "id : 123\n",
      "Salary : 5000000\n",
      "Department :  Machine Learning\n"
     ]
    },
    {
     "data": {
      "text/plain": [
       "1000000.0"
      ]
     },
     "execution_count": 77,
     "metadata": {},
     "output_type": "execute_result"
    }
   ],
   "source": [
    "e1 = Employee(123,'Edesh', '5000000', 'Machine Learning')\n",
    "e1.print_emp_details()\n",
    "e1.assign_department('Data Science')\n",
    "e1.emp_department\n",
    "e1.calculate_emp_salary(60)"
   ]
  },
  {
   "cell_type": "code",
   "execution_count": 4,
   "id": "693f84b8",
   "metadata": {},
   "outputs": [],
   "source": [
    "# Ques 3: Write a Python class Restaurant with attributes like menu_items, book_table, and customer_orders, and methods like add_item_to_menu, book_tables, and customer_order.\n",
    "\n",
    "# Perform the following tasks now:\n",
    "# Now add items to the menu.\n",
    "# Make table reservations.\n",
    "# Take customer orders.\n",
    "# Print the menu.\n",
    "# Print table reservations.\n",
    "# Print customer orders.\n",
    "\n",
    "class Restaurant:\n",
    "    \n",
    "    def __init__(self ):\n",
    "        self.menu_itmes =[]\n",
    "        self.book_table =[]\n",
    "        self.customer_orders =[]\n",
    "        \n",
    "    def add_menu_item(self, *item):\n",
    "        for i in item:\n",
    "            self.menu_itmes.append(i)\n",
    "        \n",
    "    def make_reservation(self, table_number):\n",
    "        self.book_table.append(table_number)\n",
    "        \n",
    "    def add_order(self, order):\n",
    "        self.customer_orders.append(order)\n",
    "    \n",
    "    def print_menu(self):\n",
    "        print(self.menu_itmes)\n",
    "        \n",
    "    def print_reservations(self):\n",
    "        print(self.book_table)\n",
    "        \n",
    "    def print_orders(self):\n",
    "        print(self.customer_orders)\n",
    "    \n"
   ]
  },
  {
   "cell_type": "code",
   "execution_count": 5,
   "id": "91629a6f",
   "metadata": {},
   "outputs": [],
   "source": [
    "r1 = Restaurant()\n",
    "r1.add_menu_item('Dosa', 'Idli')"
   ]
  },
  {
   "cell_type": "code",
   "execution_count": 6,
   "id": "7219652d",
   "metadata": {},
   "outputs": [
    {
     "name": "stdout",
     "output_type": "stream",
     "text": [
      "['Dosa', 'Idli']\n"
     ]
    }
   ],
   "source": [
    "r1.print_menu()"
   ]
  },
  {
   "cell_type": "code",
   "execution_count": 7,
   "id": "b5bd3e3e",
   "metadata": {},
   "outputs": [
    {
     "name": "stdout",
     "output_type": "stream",
     "text": [
      "['Dosa', 'Idli', 'Naan', 'Shahi paneer']\n"
     ]
    }
   ],
   "source": [
    "r1.add_menu_item('Naan', 'Shahi paneer')\n",
    "r1.print_menu()"
   ]
  },
  {
   "cell_type": "code",
   "execution_count": 8,
   "id": "f90c2d6e",
   "metadata": {},
   "outputs": [],
   "source": [
    "class School:\n",
    "    def __init__(self, name, ownership):\n",
    "        self.name = name\n",
    "        self.ownership = ownership\n",
    "    \n",
    "class Student(School):\n",
    "    \n",
    "    def __init__(self,school,name,age ):\n",
    "        self.school = school\n",
    "        self.name = name\n",
    "        self.age = age\n",
    "        print(f'{self.name} student added to {school.name}')\n",
    "    \n",
    "    "
   ]
  },
  {
   "cell_type": "code",
   "execution_count": 9,
   "id": "e3b5b569",
   "metadata": {},
   "outputs": [
    {
     "name": "stdout",
     "output_type": "stream",
     "text": [
      "Edesh student added to RPVV\n"
     ]
    }
   ],
   "source": [
    "RPVV = School('RPVV', 'Goverment')\n",
    "s1 = Student(RPVV, 'Edesh', 23)"
   ]
  },
  {
   "cell_type": "code",
   "execution_count": 10,
   "id": "1a6ed494",
   "metadata": {},
   "outputs": [
    {
     "data": {
      "text/plain": [
       "'RPVV'"
      ]
     },
     "execution_count": 10,
     "metadata": {},
     "output_type": "execute_result"
    }
   ],
   "source": [
    "s1.school.name\n"
   ]
  },
  {
   "cell_type": "code",
   "execution_count": 18,
   "id": "8502b3c1",
   "metadata": {},
   "outputs": [],
   "source": [
    "class Best_friends:\n",
    "    def __init__(self):\n",
    "        self.bf_list=[]\n",
    "    \n",
    "    def add_friend(self, *friend):\n",
    "        for i in friend:\n",
    "            self.bf_list.append(i)\n",
    "        \n",
    "    \n",
    "class person(Best_friends):\n",
    "    \n",
    "    def __init__(self,name):\n",
    "        super().__init__()\n",
    "        self.name = name\n",
    "        \n",
    "    def print_best_friends(self):\n",
    "        print(self.bf_list)\n",
    "        \n",
    "\n",
    "\n",
    "\n",
    "        \n"
   ]
  },
  {
   "cell_type": "code",
   "execution_count": 21,
   "id": "671cbea0",
   "metadata": {},
   "outputs": [
    {
     "name": "stdout",
     "output_type": "stream",
     "text": [
      "['d', 'e']\n",
      "['c']\n",
      "['a', 'e']\n",
      "[]\n",
      "['a', 'b', 'c', 'd']\n"
     ]
    }
   ],
   "source": [
    "a = person('A')\n",
    "b = person('B')\n",
    "c = person('C')\n",
    "d = person('D')\n",
    "e = person('E')\n",
    "a.add_friend('d','e')\n",
    "b.add_friend('c')\n",
    "c.add_friend('a','e')\n",
    "e.add_friend('a','b','c','d')\n",
    "a.print_best_friends()\n",
    "b.print_best_friends()\n",
    "c.print_best_friends()\n",
    "d.print_best_friends()\n",
    "e.print_best_friends()"
   ]
  },
  {
   "cell_type": "code",
   "execution_count": 42,
   "id": "2e9fb387",
   "metadata": {},
   "outputs": [],
   "source": [
    "# Ques 4: Write a Python class BankAccount with attributes like account_number, balance, date_of_opening and customer_name, and methods like deposit, withdraw, and check_balance.\n",
    "    \n",
    "    \n",
    "class BankAcoount:\n",
    "    \n",
    "    def __init__(self):\n",
    "        self.__account_number = input(\"account_number?\")\n",
    "        self.__balance = int(input(\"balance\"))\n",
    "        self.__customer_name = input(\"customer_name\")\n",
    "        self.__date_of_opening = input(\"date_of_opening\")\n",
    "\n",
    "    def deposit(self, amount):\n",
    "        self.__balance += amount\n",
    "        print(f'new balance is :{self.__balance}')\n",
    "        \n",
    "    def withdraw(self, amount):\n",
    "        if amount< self.__balance: \n",
    "            self.__balance -= amount\n",
    "            print(f'{amount} withdrawed, new balance is {self.__balance}')\n",
    "        else:\n",
    "            print('Insufficient balance')\n",
    "            \n",
    "    def check_balance(self):\n",
    "        print('balance is ', self.__balance)\n",
    "    \n",
    "    \n"
   ]
  },
  {
   "cell_type": "code",
   "execution_count": 43,
   "id": "a181b64a",
   "metadata": {},
   "outputs": [
    {
     "name": "stdout",
     "output_type": "stream",
     "text": [
      "account_number?dsf\n",
      "balance516351\n",
      "customer_namesfdf\n",
      "date_of_openings\n"
     ]
    }
   ],
   "source": [
    "account1 = BankAcoount()"
   ]
  },
  {
   "cell_type": "code",
   "execution_count": 44,
   "id": "a1197e46",
   "metadata": {},
   "outputs": [
    {
     "name": "stdout",
     "output_type": "stream",
     "text": [
      "new balance is :526351\n"
     ]
    }
   ],
   "source": [
    "account1.deposit(10000)"
   ]
  },
  {
   "cell_type": "code",
   "execution_count": 45,
   "id": "123e4326",
   "metadata": {},
   "outputs": [
    {
     "name": "stdout",
     "output_type": "stream",
     "text": [
      "1000 withdrawed, new balance is 525351\n"
     ]
    }
   ],
   "source": [
    "account1.withdraw(1000)"
   ]
  },
  {
   "cell_type": "code",
   "execution_count": 46,
   "id": "5b924444",
   "metadata": {},
   "outputs": [
    {
     "name": "stdout",
     "output_type": "stream",
     "text": [
      "account_number?dfsdf\n",
      "balance684515\n",
      "customer_namedassa\n",
      "date_of_opening\n"
     ]
    }
   ],
   "source": [
    "account2 = BankAcoount()"
   ]
  },
  {
   "cell_type": "code",
   "execution_count": 47,
   "id": "d691a466",
   "metadata": {},
   "outputs": [
    {
     "name": "stdout",
     "output_type": "stream",
     "text": [
      "balance is  525351\n",
      "balance is  684515\n"
     ]
    }
   ],
   "source": [
    "account1.check_balance()\n",
    "account2.check_balance()"
   ]
  },
  {
   "cell_type": "code",
   "execution_count": null,
   "id": "f30db8a0",
   "metadata": {},
   "outputs": [],
   "source": [
    "Ques 5: Create a Python class called BankAccount which represents a bank account, having as attributes: accountNumber (numeric type), name (name of the account owner as string type), balance.\n",
    "Create a constructor with parameters: accountNumber, name, balance.\n",
    "Create a Deposit() method which manages the deposit actions.\n",
    "Create a Withdrawal() method  which manages withdrawals actions.\n",
    "Create an bankFees() method to apply the bank fees with a percentage of 5% of the balance account.\n",
    "Create a display() method to display account details.\n",
    "Give the complete code for the  BankAccount class.\n"
   ]
  }
 ],
 "metadata": {
  "kernelspec": {
   "display_name": "Python 3 (ipykernel)",
   "language": "python",
   "name": "python3"
  },
  "language_info": {
   "codemirror_mode": {
    "name": "ipython",
    "version": 3
   },
   "file_extension": ".py",
   "mimetype": "text/x-python",
   "name": "python",
   "nbconvert_exporter": "python",
   "pygments_lexer": "ipython3",
   "version": "3.10.4"
  }
 },
 "nbformat": 4,
 "nbformat_minor": 5
}
