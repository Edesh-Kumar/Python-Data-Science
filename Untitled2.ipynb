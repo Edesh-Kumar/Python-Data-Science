{
 "cells": [
  {
   "cell_type": "markdown",
   "id": "07e1e719",
   "metadata": {},
   "source": [
    "#Dictionary"
   ]
  },
  {
   "cell_type": "code",
   "execution_count": 28,
   "id": "e66e7b80",
   "metadata": {
    "code_folding": []
   },
   "outputs": [],
   "source": [
    "dic ={\n",
    "    'edesh' : 'Pass@'\n",
    "}"
   ]
  },
  {
   "cell_type": "code",
   "execution_count": 29,
   "id": "42d76de6",
   "metadata": {},
   "outputs": [
    {
     "name": "stdout",
     "output_type": "stream",
     "text": [
      "Usernameedesh\n",
      "PasswordPass@\n",
      "Verified\n"
     ]
    }
   ],
   "source": [
    "username = input('Username')\n",
    "password = input('Password')\n",
    "if username in dic and dic[username]== password:\n",
    "    print('Verified')"
   ]
  },
  {
   "cell_type": "code",
   "execution_count": null,
   "id": "79cbddd9",
   "metadata": {},
   "outputs": [],
   "source": []
  },
  {
   "cell_type": "code",
   "execution_count": null,
   "id": "621ed162",
   "metadata": {},
   "outputs": [],
   "source": []
  },
  {
   "cell_type": "code",
   "execution_count": null,
   "id": "82debd42",
   "metadata": {},
   "outputs": [],
   "source": []
  }
 ],
 "metadata": {
  "kernelspec": {
   "display_name": "Python 3 (ipykernel)",
   "language": "python",
   "name": "python3"
  },
  "language_info": {
   "codemirror_mode": {
    "name": "ipython",
    "version": 3
   },
   "file_extension": ".py",
   "mimetype": "text/x-python",
   "name": "python",
   "nbconvert_exporter": "python",
   "pygments_lexer": "ipython3",
   "version": "3.10.4"
  }
 },
 "nbformat": 4,
 "nbformat_minor": 5
}
