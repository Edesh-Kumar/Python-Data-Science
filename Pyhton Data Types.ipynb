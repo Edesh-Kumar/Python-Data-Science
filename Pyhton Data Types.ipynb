{
 "cells": [
  {
   "cell_type": "code",
   "execution_count": 11,
   "id": "4eb45e4c",
   "metadata": {},
   "outputs": [
    {
     "name": "stdout",
     "output_type": "stream",
     "text": [
      "<class 'int'> <class 'float'> <class 'complex'>\n"
     ]
    }
   ],
   "source": [
    "# pyhton has several detatypes\n",
    "# Numbers\n",
    "#   integer\n",
    "#   float\n",
    "#   complex number\n",
    "# Sequence Type\n",
    "#   String\n",
    "#   List\n",
    "#   Tuple\n",
    "# Set\n",
    "# Dictionary\n",
    "# Boolean\n",
    "# Python is a dynamically typed language so datatype is not needed to be mentioned explicitly\n",
    "\n",
    "a= 10\n",
    "b = 56.89\n",
    "c = 2.45j +1\n",
    "\n",
    "print(type(a),type(b), type(c))\n",
    "\n"
   ]
  },
  {
   "cell_type": "code",
   "execution_count": 15,
   "id": "d99e55cf",
   "metadata": {},
   "outputs": [
    {
     "name": "stdout",
     "output_type": "stream",
     "text": [
      "<class 'str'> <class 'list'> <class 'tuple'>\n"
     ]
    }
   ],
   "source": [
    "# Lists are declared by putting data items seperated by , in square brackets\n",
    "# List can contain any type of data(object)\n",
    "# sequence data types are interable means we can access data items in them by using a loop or iterator\n",
    "#Lists are mutable but tuples are immutable (mutable = which can be modified after creation)\n",
    "str_var = 'I am a String'\n",
    "l = [1,'hello', 45.8, 3.45+9j]\n",
    "t = (1,'hello', 45.8, 3.45+9j)\n",
    "print(type(str_var), type(l), type(t))\n"
   ]
  },
  {
   "cell_type": "code",
   "execution_count": 17,
   "id": "89431436",
   "metadata": {},
   "outputs": [
    {
     "name": "stdout",
     "output_type": "stream",
     "text": [
      "<class 'bool'>\n"
     ]
    }
   ],
   "source": [
    "# boolean data type is simply True or False. they are case sensitive\n",
    "isTrue = False\n",
    "print(type(isTrue))"
   ]
  },
  {
   "cell_type": "code",
   "execution_count": 29,
   "id": "318be6a1",
   "metadata": {},
   "outputs": [
    {
     "name": "stdout",
     "output_type": "stream",
     "text": [
      "<class 'set'>\n",
      "{1, 'Hello', 45.78, (78+8j)}\n"
     ]
    }
   ],
   "source": [
    "\"\"\"\n",
    "Set contains unique elements in a unordered fashion. it is mutable but duplicate items cannot be added to it. set is\n",
    "defined by putting data items inside curly braces {}\n",
    "\"\"\"\n",
    "s = {1,45.78, 78 +8j, \"Hello\", \"Hello\", 1}\n",
    "print(type(s))\n",
    "print(s)"
   ]
  },
  {
   "cell_type": "code",
   "execution_count": 6,
   "id": "6c9873c7",
   "metadata": {},
   "outputs": [
    {
     "data": {
      "text/plain": [
       "{1: 'String', 'String': 1, 23.6: [1, 3, 7, 'trees'], 5: 'String'}"
      ]
     },
     "execution_count": 6,
     "metadata": {},
     "output_type": "execute_result"
    }
   ],
   "source": [
    "# Dictionary is a data type contains key:value pair in it. It only contains unique keys which can have duplicate values. if you try to add a duplicate key with different value. \n",
    "\n",
    "dictionary = {\n",
    "    1:\"String\",\n",
    "    \"String\":1,\n",
    "    23.6:[1,3,7,'trees'],\n",
    "    5:\"String\"\n",
    "    \n",
    "}\n",
    "dictionary"
   ]
  },
  {
   "cell_type": "code",
   "execution_count": 1,
   "id": "5b936b79",
   "metadata": {},
   "outputs": [
    {
     "name": "stdout",
     "output_type": "stream",
     "text": [
      "<class 'tuple'>\n"
     ]
    }
   ],
   "source": [
    "single_tuple = \"Tuple\",    \n",
    "print( type(single_tuple) )    "
   ]
  },
  {
   "cell_type": "code",
   "execution_count": 4,
   "id": "1dd39878",
   "metadata": {},
   "outputs": [
    {
     "name": "stdout",
     "output_type": "stream",
     "text": [
      "('Python', 'Tuple', 'Ordered', 'Immutable', 4, 5, 6)\n"
     ]
    }
   ],
   "source": [
    "# Python program to show how to concatenate tuples    \n",
    "# Creating a tuple    \n",
    "tuple_ = (\"Python\", \"Tuple\", \"Ordered\", \"Immutable\")    \n",
    "# Adding a tuple to the tuple_    \n",
    "print(tuple_ + (4, 5, 6))    "
   ]
  },
  {
   "cell_type": "code",
   "execution_count": null,
   "id": "eb5c7241",
   "metadata": {},
   "outputs": [],
   "source": []
  }
 ],
 "metadata": {
  "kernelspec": {
   "display_name": "Python 3 (ipykernel)",
   "language": "python",
   "name": "python3"
  },
  "language_info": {
   "codemirror_mode": {
    "name": "ipython",
    "version": 3
   },
   "file_extension": ".py",
   "mimetype": "text/x-python",
   "name": "python",
   "nbconvert_exporter": "python",
   "pygments_lexer": "ipython3",
   "version": "3.10.4"
  }
 },
 "nbformat": 4,
 "nbformat_minor": 5
}
